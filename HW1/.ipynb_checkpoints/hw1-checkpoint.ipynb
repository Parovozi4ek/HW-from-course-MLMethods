{
 "cells": [
  {
   "cell_type": "code",
   "execution_count": 3,
   "id": "070f4f77-fd21-49b7-8d9d-0939e187cbf3",
   "metadata": {},
   "outputs": [
    {
     "name": "stdout",
     "output_type": "stream",
     "text": [
      "Задача № 1, шаг 5 - вариант:  5\n",
      "Задача № 1, шаг 11 - вариант:  1\n",
      "задача № 2 - вариант:  1\n"
     ]
    }
   ],
   "source": [
    "surname = \"Шестаков\"  # Ваша фамилия\n",
    "\n",
    "alp = 'абвгдеёжзийклмнопрстуфхцчшщъыьэюя'\n",
    "w = [1, 42, 21, 21, 34,  6, 44, 26, 18, 44, 38, 26, 14, 43,  4, 49, 45,\n",
    "        7, 42, 29,  4,  9, 36, 34, 31, 29,  5, 30,  4, 19, 28, 25, 33]\n",
    "\n",
    "d = dict(zip(alp, w))\n",
    "variant =  sum([d[el] for el in surname.lower()]) % 40 + 1\n",
    "\n",
    "print(\"Задача № 1, шаг 5 - вариант: \", variant % 5 + 1)\n",
    "print(\"Задача № 1, шаг 11 - вариант: \", variant % 2 + 1 )\n",
    "print(\"задача № 2 - вариант: \", variant % 4 + 1)"
   ]
  },
  {
   "cell_type": "code",
   "execution_count": null,
   "id": "90dae246-d5a1-45f3-b5a8-032b3e10afee",
   "metadata": {},
   "outputs": [],
   "source": []
  },
  {
   "cell_type": "code",
   "execution_count": null,
   "id": "e3ef226d-899b-4046-be45-8c736287c3d9",
   "metadata": {},
   "outputs": [],
   "source": []
  }
 ],
 "metadata": {
  "kernelspec": {
   "display_name": "Python 3 (ipykernel)",
   "language": "python",
   "name": "python3"
  },
  "language_info": {
   "codemirror_mode": {
    "name": "ipython",
    "version": 3
   },
   "file_extension": ".py",
   "mimetype": "text/x-python",
   "name": "python",
   "nbconvert_exporter": "python",
   "pygments_lexer": "ipython3",
   "version": "3.11.4"
  }
 },
 "nbformat": 4,
 "nbformat_minor": 5
}
